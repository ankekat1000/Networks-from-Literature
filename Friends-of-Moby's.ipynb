{
 "cells": [
  {
   "cell_type": "markdown",
   "metadata": {},
   "source": [
    "### How to Extract a Social Network from a Novel\n",
    "This python script extracts an undirected co-occurrence network of characters from the novel Moby-Dick (Herman Melville). "
   ]
  },
  {
   "cell_type": "markdown",
   "metadata": {},
   "source": [
    "Get a novel (text file), e.g. from http://www.gutenberg.org. "
   ]
  },
  {
   "cell_type": "code",
   "execution_count": 1,
   "metadata": {
    "scrolled": true
   },
   "outputs": [
    {
     "name": "stdout",
     "output_type": "stream",
     "text": [
      "b\"**The Project Gutenberg Etext of Moby Dick, by Herman Melville**\\r\\n#3 in our series by Herman Melville\\r\\n\\r\\nThis Project Gutenberg version of Moby Dick is based on a combination\\r\\nof the etext from the ERIS project at Virginia Tech and another from\\r\\nProject Gutenberg's archives, as compared to a public-domain hard copy.\\r\\n\\r\\nCopyright laws are changing all over the world, be sure to check\\r\\nthe copyright laws for your country before posting these files!!\\r\\n\\r\\nPlease take a look at the important informati\"\n"
     ]
    }
   ],
   "source": [
    "from urllib.request import urlopen\n",
    "textfile = urlopen(\"http://www.gutenberg.org/files/2701/old/moby10b.txt\")\n",
    "moby = textfile.read()\n",
    "print(moby[:500])"
   ]
  },
  {
   "cell_type": "markdown",
   "metadata": {},
   "source": [
    "To find out if characters appear together in a defined text sequence, split the text in parts, e.g. paragraphs. Check first, how the sequences are actually split in your text file (here **\\r\\n**: carriage return, Newline)."
   ]
  },
  {
   "cell_type": "code",
   "execution_count": 2,
   "metadata": {
    "collapsed": true
   },
   "outputs": [],
   "source": [
    "import re  # for regex use."
   ]
  },
  {
   "cell_type": "code",
   "execution_count": 3,
   "metadata": {},
   "outputs": [
    {
     "name": "stdout",
     "output_type": "stream",
     "text": [
      "23245\n"
     ]
    }
   ],
   "source": [
    "moby_paragraph_list = []    #make empty list\n",
    "moby_paragraphs = re.split(r'\\r\\n', moby.decode(\"utf-8\"))   #split into paragraphs.\n",
    "for para in moby_paragraphs:\n",
    "    moby_paragraph_list.append(str(para + '\\n'))    #save in list\n",
    "print(len(moby_paragraph_list)) #prints the number of paragraphs of the novel."
   ]
  },
  {
   "cell_type": "markdown",
   "metadata": {},
   "source": [
    "Define a dictionary with all characters (values) and their synonyms (keys) you want to be considered. And maybe your story is told by a first-person narrator?"
   ]
  },
  {
   "cell_type": "code",
   "execution_count": 4,
   "metadata": {
    "collapsed": true
   },
   "outputs": [],
   "source": [
    "moby_names = {\"Ishmael\": \"Ishmael\",\n",
    "              \"I\": \"Ishmael\",\n",
    "              \"Moby\": \"Moby Dick\",\n",
    "              \"Ahab\": \"Ahab\",\n",
    "              #\"whale\": \"Moby Dick\",\n",
    "              #\"Whale\": \"Moby Dick\",\n",
    "              \"Mapple\": \"Father Mapple\",\n",
    "              \"Bildad\": \"Captain Bildad\",\n",
    "              \"Peleg\": \"Captain Peleg\",\n",
    "              \"Starbuck\": \"Starbuck\",\n",
    "              \"chief mate\": \"Starbuck\",\n",
    "              \"Chief Mate\": \"Starbuck\",\n",
    "              \"Stubb\": \"Stubb\",\n",
    "              \"Second Mate\": \"Stubb\",\n",
    "              \"second mate\": \"Stubb\",\n",
    "              \"Flask\": \"Flask\",\n",
    "              \"third mate\": \"Flask\",\n",
    "              \"Third mate\": \"Flask\",\n",
    "              \"King-Post\": \"Flask\",\n",
    "              \"Queequeg\": \"Queequeg\",\n",
    "              \"Tashtego\": \"Tashtego\",\n",
    "              \"Daggoo\": \"Daggoo\",\n",
    "              \"Fedallah\": \"Fedallah\",\n",
    "              \"fire worshipper\": \"Fedallah\",\n",
    "              \"Fire worshipper\": \"Fedallah\",\n",
    "              \"Pip\": \"Pip\",\n",
    "              \"Pippin\": \"Pip\",\n",
    "              \"Dough-Boy\": \"Dough Boy\",\n",
    "              \"Fleece\": \"The Cook\",\n",
    "              \"Blacksmith\": \"Blacksmith\",\n",
    "              \"blacksmith\": \"Blacksmith\",\n",
    "              \"Perth\": \"Blacksmith\",\n",
    "              \"Carpenter\": \"Carpenter\",\n",
    "              \"Captain Boomer\": \"Captain Boomer\",\n",
    "              \"Captain de Deer\": \"Captain de Deer\",\n",
    "              \"Derick\": \"Captain de Deer\",\n",
    "              \"Bachelor\": \"Captain of the Bachelor\",\n",
    "              \"Bouton\": \"Bouton d'Or\",\n",
    "              \"BOUTON\": \"Bouton d'Or\",\n",
    "              \"bouton\": \"Bouton d'Or\",\n",
    "              \"Rosebud\": \"Bouton d'Or\",\n",
    "              \"Rachel\": \"The Rachel\",\n",
    "              \"Delight\": \"Delight\",\n",
    "              \"Elijah\": \"Elijah\"\n",
    "              }"
   ]
  },
  {
   "cell_type": "markdown",
   "metadata": {},
   "source": [
    "A list of co-occurrences in a text sequence takes all possible realtions into account. \n",
    "\n",
    "E.g. _\"I watched Ahab looking out for the Whale\"_: Ishmael <-> Ahab, Moby <-> Ahab and Moby <-> Ishmael."
   ]
  },
  {
   "cell_type": "code",
   "execution_count": 5,
   "metadata": {
    "collapsed": true
   },
   "outputs": [],
   "source": [
    "from itertools import combinations"
   ]
  },
  {
   "cell_type": "code",
   "execution_count": 6,
   "metadata": {},
   "outputs": [
    {
     "name": "stdout",
     "output_type": "stream",
     "text": [
      "[('Ishmael', 'Queequeg'), ('Ishmael', 'Queequeg'), ('Ishmael', 'Queequeg'), ('Ishmael', 'Queequeg'), ('Ishmael', 'Queequeg'), ('Ishmael', 'Queequeg'), ('Starbuck', 'Stubb'), ('Ishmael', 'Delight'), ('Ishmael', 'Father Mapple'), ('Ishmael', 'Queequeg'), ('Ishmael', 'Queequeg'), ('Ishmael', 'Queequeg'), ('Ishmael', 'Queequeg'), ('Ishmael', 'Queequeg'), ('Ishmael', 'Queequeg'), ('Ishmael', 'Queequeg'), ('Ishmael', 'Queequeg'), ('Ishmael', 'Queequeg'), ('Ishmael', 'Queequeg'), ('Ishmael', 'Queequeg')]\n"
     ]
    }
   ],
   "source": [
    "def all_combis(liste):\n",
    "    \"\"\"\n",
    "    \"\"\"\n",
    "    return_liste = []\n",
    "    for element in combinations(liste, 2):\n",
    "        return_liste.append(element)\n",
    "    return return_liste\n",
    "#If a name appears more than one time in a sequence, it will be count only once.\n",
    "resultat = []\n",
    "list_temp = []\n",
    "for sentence in moby_paragraph_list:\n",
    "    if len(list_temp) != 0:\n",
    "        del list_temp\n",
    "        list_temp = []\n",
    "    for key in moby_names:\n",
    "        if key in sentence and moby_names.get(key) not in list_temp:\n",
    "            list_temp.append(moby_names.get(key))\n",
    "    for element in all_combis(list_temp):\n",
    "        resultat.append(element)\n",
    "print(resultat[:20])"
   ]
  },
  {
   "cell_type": "markdown",
   "metadata": {},
   "source": [
    "You might want to store your data in a Dataframe..."
   ]
  },
  {
   "cell_type": "code",
   "execution_count": 7,
   "metadata": {
    "scrolled": true
   },
   "outputs": [
    {
     "data": {
      "text/html": [
       "<div>\n",
       "<style>\n",
       "    .dataframe thead tr:only-child th {\n",
       "        text-align: right;\n",
       "    }\n",
       "\n",
       "    .dataframe thead th {\n",
       "        text-align: left;\n",
       "    }\n",
       "\n",
       "    .dataframe tbody tr th {\n",
       "        vertical-align: top;\n",
       "    }\n",
       "</style>\n",
       "<table border=\"1\" class=\"dataframe\">\n",
       "  <thead>\n",
       "    <tr style=\"text-align: right;\">\n",
       "      <th></th>\n",
       "      <th>0</th>\n",
       "      <th>1</th>\n",
       "    </tr>\n",
       "  </thead>\n",
       "  <tbody>\n",
       "    <tr>\n",
       "      <th>0</th>\n",
       "      <td>Ishmael</td>\n",
       "      <td>Queequeg</td>\n",
       "    </tr>\n",
       "    <tr>\n",
       "      <th>1</th>\n",
       "      <td>Ishmael</td>\n",
       "      <td>Queequeg</td>\n",
       "    </tr>\n",
       "    <tr>\n",
       "      <th>2</th>\n",
       "      <td>Ishmael</td>\n",
       "      <td>Queequeg</td>\n",
       "    </tr>\n",
       "    <tr>\n",
       "      <th>3</th>\n",
       "      <td>Ishmael</td>\n",
       "      <td>Queequeg</td>\n",
       "    </tr>\n",
       "    <tr>\n",
       "      <th>4</th>\n",
       "      <td>Ishmael</td>\n",
       "      <td>Queequeg</td>\n",
       "    </tr>\n",
       "  </tbody>\n",
       "</table>\n",
       "</div>"
      ],
      "text/plain": [
       "         0         1\n",
       "0  Ishmael  Queequeg\n",
       "1  Ishmael  Queequeg\n",
       "2  Ishmael  Queequeg\n",
       "3  Ishmael  Queequeg\n",
       "4  Ishmael  Queequeg"
      ]
     },
     "execution_count": 7,
     "metadata": {},
     "output_type": "execute_result"
    }
   ],
   "source": [
    "import pandas as pd\n",
    "df = pd.DataFrame.from_records(resultat)\n",
    "df.head()"
   ]
  },
  {
   "cell_type": "markdown",
   "metadata": {},
   "source": [
    "...or in a csv file."
   ]
  },
  {
   "cell_type": "code",
   "execution_count": 8,
   "metadata": {
    "collapsed": true
   },
   "outputs": [],
   "source": [
    "df.to_csv(\"moby.csv\", sep=';', header=False, index=False, mode='w', quoting=None, quotechar='\"', line_terminator='\\n')"
   ]
  },
  {
   "cell_type": "markdown",
   "metadata": {},
   "source": [
    "See https://networkx.github.io/documentation/stable/ for the _networkx_ package documentation."
   ]
  },
  {
   "cell_type": "code",
   "execution_count": 9,
   "metadata": {
    "collapsed": true
   },
   "outputs": [],
   "source": [
    "import networkx as nx"
   ]
  },
  {
   "cell_type": "code",
   "execution_count": 10,
   "metadata": {
    "collapsed": true
   },
   "outputs": [],
   "source": [
    "G = nx.read_edgelist(\"moby.csv\", delimiter=';', nodetype=str, encoding=\"utf-8\", create_using=nx.Graph())"
   ]
  },
  {
   "cell_type": "code",
   "execution_count": 11,
   "metadata": {},
   "outputs": [
    {
     "name": "stdout",
     "output_type": "stream",
     "text": [
      "Name: \n",
      "Type: Graph\n",
      "Number of nodes: 23\n",
      "Number of edges: 60\n",
      "Average degree:   5.2174\n"
     ]
    }
   ],
   "source": [
    "print(nx.info(G))\n",
    "#The network consists of 23 characters and their are connected over 60 edges (graphs). \n",
    "#In average, a character is connected to 5 other characters in the story."
   ]
  },
  {
   "cell_type": "code",
   "execution_count": 12,
   "metadata": {},
   "outputs": [
    {
     "data": {
      "image/png": "[encoded data removed]",
      "text/plain": [
       "<matplotlib.figure.Figure at 0x289730a7908>"
      ]
     },
     "metadata": {},
     "output_type": "display_data"
    }
   ],
   "source": [
    "%matplotlib inline\n",
    "#change parameters for a more fancy and more informative layout.\n",
    "nx.draw_networkx(G, node_size=30, node_color=\"w\")"
   ]
  }
 ],
 "metadata": {
  "kernelspec": {
   "display_name": "Python 3",
   "language": "python",
   "name": "python3"
  },
  "language_info": {
   "codemirror_mode": {
    "name": "ipython",
    "version": 3
   },
   "file_extension": ".py",
   "mimetype": "text/x-python",
   "name": "python",
   "nbconvert_exporter": "python",
   "pygments_lexer": "ipython3",
   "version": "3.6.1"
  }
 },
 "nbformat": 4,
 "nbformat_minor": 2
}
